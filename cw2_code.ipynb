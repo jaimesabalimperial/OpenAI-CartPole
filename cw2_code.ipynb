{
  "cells": [
    {
      "cell_type": "code",
      "execution_count": 4,
      "metadata": {
        "id": "QY5RANDTgmn4"
      },
      "outputs": [],
      "source": [
        "import gym\n",
        "import copy\n",
        "from gym.wrappers.monitoring.video_recorder import VideoRecorder  # records videos of episodes\n",
        "from gym.wrappers import FrameStack\n",
        "import numpy as np\n",
        "import matplotlib.pyplot as plt  # Graphical library\n",
        "import torch\n",
        "import torch.optim as optim\n",
        "import torch.nn as nn\n",
        "import torch.nn.functional as F\n",
        "import tqdm\n",
        "\n",
        "device = torch.device(\"cuda\" if torch.cuda.is_available() else \"cpu\")  # Configuring Pytorch\n",
        "from collections import namedtuple, deque\n",
        "from itertools import count\n",
        "import math\n",
        "import random"
      ]
    },
    {
      "cell_type": "code",
      "execution_count": 432,
      "metadata": {
        "id": "uIIRZsVAgqj3"
      },
      "outputs": [],
      "source": [
        "Transition = namedtuple('Transition',\n",
        "                        ('state', 'action', 'next_state', 'reward'))\n",
        "\n",
        "#dont change\n",
        "class ReplayBuffer(object):\n",
        "\n",
        "    def __init__(self, capacity):\n",
        "        self.memory = deque([],maxlen=capacity)\n",
        "\n",
        "    def push(self, *args):\n",
        "        \"\"\"Save a transition\"\"\"\n",
        "        self.memory.append(Transition(*args))\n",
        "\n",
        "    def sample(self, batch_size):\n",
        "        return random.sample(self.memory, batch_size)\n",
        "\n",
        "    def __len__(self):\n",
        "        return len(self.memory)\n",
        "\n",
        "#dont change\n",
        "class DQN(nn.Module):\n",
        "\n",
        "    def __init__(self, inputs, outputs, num_hidden, hidden_size):\n",
        "        super(DQN, self).__init__()\n",
        "        self.input_layer = nn.Linear(inputs, hidden_size)\n",
        "        self.hidden_layers = nn.ModuleList([nn.Linear(hidden_size, hidden_size) for _ in range(num_hidden-1)])\n",
        "        self.output_layer = nn.Linear(hidden_size, outputs)\n",
        "    \n",
        "    def forward(self, x):\n",
        "        x.to(device)\n",
        "\n",
        "        x = F.relu(self.input_layer(x))\n",
        "        for layer in self.hidden_layers:\n",
        "            x = F.relu(layer(x))\n",
        "        \n",
        "        return self.output_layer(x)\n",
        "\n",
        "\n",
        "class FrameStacking(gym.Wrapper):\n",
        "    \"\"\"Return only every 4th frame\"\"\"\n",
        "    def __init__(self, env, k):\n",
        "        super(FrameStacking, self).__init__(env)\n",
        "        self._obs_buffer = deque([], maxlen=k)\n",
        "        self._skip       = k\n",
        "\n",
        "    @property\n",
        "    def _k_states(self):\n",
        "        return torch.stack(list(self._obs_buffer)).reshape(-1).unsqueeze(0)\n",
        "    \n",
        "    def reset_buffer(self):\n",
        "        self._obs_buffer = deque([], maxlen=self._skip)\n",
        "\n",
        "\n",
        "class CartpoleAgent():\n",
        "    def __init__(self, NUM_EPISODES, BATCH_SIZE, GAMMA, TARGET_UPDATE_FREQ, \n",
        "                 NUM_FRAMES, SKIPPED_FRAMES, NUM_HIDDEN_LAYERS, SIZE_HIDDEN_LAYERS, REPLAY_BUFFER, LR,\n",
        "                 EPS_START, EPS_END, REWARD_TARGET, EPS_DECAY=None, DDQN=False, eps_decay_strat=\"reward\",\n",
        "                 ablate_target=False, ablate_replay=False):\n",
        "\n",
        "        #initialisation attributes\n",
        "        self.reward_target = REWARD_TARGET\n",
        "        self.reward_threshold = 0\n",
        "        self.num_episodes = NUM_EPISODES\n",
        "        self.batch_size = BATCH_SIZE\n",
        "        self.gamma = GAMMA\n",
        "        self.target_update_freq = TARGET_UPDATE_FREQ\n",
        "        self.eps_start = EPS_START\n",
        "        self.eps_end = EPS_END\n",
        "        self.k = NUM_FRAMES\n",
        "        self.skip_frames = SKIPPED_FRAMES\n",
        "        self.curr_episode = 0\n",
        "        self.losses = []\n",
        "        self.train_rewards = []\n",
        "        self.eps_decay_strat = eps_decay_strat\n",
        "\n",
        "        self.ablate_target = ablate_target\n",
        "        self.ablate_replay = ablate_replay\n",
        "\n",
        "        if self.eps_decay_strat[:3] == \"exp\":\n",
        "            if EPS_DECAY == None:\n",
        "                raise Exception(\"Have to define EPS_DECAY if decay strategy is exponential\")\n",
        "            else:\n",
        "                self.eps_decay = EPS_DECAY\n",
        "\n",
        "        self.epsilon = self.eps_start\n",
        "        self.epsilon_list = []\n",
        "        self.epsilon_delta = (self.epsilon - self.eps_end)/self.reward_target\n",
        "\n",
        "        #Get number of states and actions from gym action space\n",
        "        env = gym.make(\"CartPole-v1\")\n",
        "        env.reset()\n",
        "        self.state_dim = len(env.state)    #x, x_dot, theta, theta_dot\n",
        "        self.n_actions = env.action_space.n\n",
        "        env.close()\n",
        "\n",
        "        self.input_dim = int(self.state_dim*self.k) #define input size of DQN\n",
        "\n",
        "        #define policy and target networks, as well as optimizer and replay buffer\n",
        "        self.policy_net = DQN(self.input_dim, self.n_actions, NUM_HIDDEN_LAYERS, SIZE_HIDDEN_LAYERS).to(device)\n",
        "        self.target_net = DQN(self.input_dim, self.n_actions, NUM_HIDDEN_LAYERS, SIZE_HIDDEN_LAYERS).to(device)\n",
        "        self.target_net.load_state_dict(self.policy_net.state_dict())\n",
        "        self.target_net.eval()\n",
        "\n",
        "        self.DDQN = DDQN\n",
        "        self.optimizer = optim.Adam(self.policy_net.parameters(), lr=LR)\n",
        "        self.memory = ReplayBuffer(REPLAY_BUFFER)\n",
        "\n",
        "                            \n",
        "\n",
        "\n",
        "    def select_action(self, k_states):\n",
        "        \"\"\"\"\"\"\n",
        "        sample = random.random()\n",
        "        if sample > self.epsilon:\n",
        "            with torch.no_grad():\n",
        "                # t.max(1) will return largest column value of each row.\n",
        "                # second column on max result is index of where max element was\n",
        "                # found, so we pick action with the larger expected reward.\n",
        "                return self.policy_net(k_states).max(1)[1].view(1, 1)\n",
        "        else:\n",
        "            return torch.tensor([[random.randrange(self.n_actions)]], device=device, dtype=torch.long)\n",
        "\n",
        "\n",
        "    def optimize_model(self):\n",
        "        if len(self.memory) < self.batch_size:\n",
        "            return\n",
        "        transitions = self.memory.sample(self.batch_size)\n",
        "        # Transpose the batch (see https://stackoverflow.com/a/19343/3343043 for\n",
        "        # detailed explanation). This converts batch-array of Transitions\n",
        "        # to Transition of batch-arrays.\n",
        "        batch = Transition(*zip(*transitions))\n",
        "\n",
        "        # Compute a mask of non-final states and concatenate the batch elements\n",
        "        # (a final state would've been the one after which simulation ended)\n",
        "        non_final_mask = torch.tensor(tuple(map(lambda s: torch.sum(s[0][-self.k:]).absolute().item() > 0, batch.next_state)), device=device, dtype=torch.bool)\n",
        "        \n",
        "        # Can safely omit the condition below to check that not all states in the\n",
        "        # sampled batch are terminal whenever the batch size is reasonable and\n",
        "        # there is virtually no chance that all states in the sampled batch are \n",
        "        # terminal\n",
        "        if sum(non_final_mask) > 0:\n",
        "            non_final_next_states = torch.cat([s for s in batch.next_state if torch.sum(s[0][-self.k:]).absolute().item() > 0])\n",
        "        else:\n",
        "            non_final_next_states = torch.empty(0,self.state_dim).to(device)\n",
        "\n",
        "        state_batch = torch.cat(batch.state)\n",
        "        action_batch = torch.cat(batch.action)\n",
        "        reward_batch = torch.cat(batch.reward)\n",
        "\n",
        "        # Compute Q(s_t, a) - the model computes Q(s_t), then we select the\n",
        "        # columns of actions taken. These are the actions which would've been taken\n",
        "        # for each batch state according to policy_net\n",
        "        state_action_values = self.policy_net(state_batch).gather(1, action_batch)\n",
        "\n",
        "        # Compute V(s_{t+1}) for all next states.\n",
        "        # This is merged based on the mask, such that we'll have either the expected\n",
        "        # state value or 0 in case the state was final.\n",
        "        next_state_values = torch.zeros(self.batch_size, device=device)\n",
        "        \n",
        "        with torch.no_grad():\n",
        "            # Once again can omit the condition if batch size is large enough\n",
        "            if sum(non_final_mask) > 0:\n",
        "                if self.DDQN:\n",
        "                    #DDQN ---> update next states Q values (using policy net) using the actions that maximise the target network\n",
        "                    actions_non_final = torch.zeros_like(action_batch.view(non_final_mask.shape))\n",
        "                    actions_non_final = torch.argmax(self.policy_net(non_final_next_states), 1).unsqueeze(1)\n",
        "                    next_state_values[non_final_mask] = self.target_net(non_final_next_states).gather(1, actions_non_final).flatten()\n",
        "                else:\n",
        "                    if self.ablate_target:\n",
        "                        next_state_values[non_final_mask] = self.policy_net(non_final_next_states).max(1)[0].detach()\n",
        "                    else:\n",
        "                        next_state_values[non_final_mask] = self.target_net(non_final_next_states).max(1)[0].detach()\n",
        "\n",
        "            else:\n",
        "                next_state_values = torch.zeros_like(next_state_values)\n",
        "\n",
        "\n",
        "        expected_state_action_values = (next_state_values * self.gamma) + reward_batch\n",
        "\n",
        "        # Compute loss\n",
        "        loss_func = nn.MSELoss()\n",
        "        loss = loss_func(state_action_values, expected_state_action_values.unsqueeze(1))\n",
        "\n",
        "\n",
        "        # Optimize the model\n",
        "        self.optimizer.zero_grad()\n",
        "        loss.backward()\n",
        "\n",
        "        # Limit magnitude of gradient for update step\n",
        "        #for param in self.policy_net.parameters():\n",
        "        #    param.grad.data.clamp_(-1, 1)\n",
        "\n",
        "        self.optimizer.step()\n",
        "\n",
        "    def train(self):\n",
        "        \"\"\"\"\"\"\n",
        "        env = gym.make(\"CartPole-v1\")\n",
        "        steps = 0\n",
        "        stack_frames = FrameStacking(env, self.k) #define frame stacking framework\n",
        "        decay_iter = 0\n",
        "\n",
        "        for i_episode in tqdm.tqdm(range(self.num_episodes)):\n",
        "            rewards = 0\n",
        "            #if i_episode % 20 == 0:\n",
        "                #print(\"episode \", i_episode, \"/\", self.num_episodes)\n",
        "\n",
        "            env.reset() #reset environment\n",
        "            state = torch.tensor(env.state).float().unsqueeze(0).to(device)\n",
        "            for _ in range(self.k): # Added\n",
        "                stack_frames._obs_buffer.append(state) # Added\n",
        "\n",
        "            for t in count():\n",
        "                k_states = stack_frames._k_states\n",
        "                temp_rewards = 0\n",
        "                for _ in range(self.skip_frames):\n",
        "                    #process frames to pass as input to DQN\n",
        "                    action = self.select_action(k_states) \n",
        "                    _, reward, done, _ = env.step(action.item()) #take step following epsilon-greedy policy\n",
        "\n",
        "                    if not done:\n",
        "                        k_states = stack_frames._k_states\n",
        "                    else:\n",
        "                        break\n",
        "\n",
        "                    temp_rewards += reward\n",
        "                \n",
        "                rewards += temp_rewards\n",
        "                reward = torch.tensor([temp_rewards], device=device)\n",
        "\n",
        "                # Observe new state\n",
        "                if not done:\n",
        "                    next_state = torch.tensor(env.state).float().unsqueeze(0).to(device)\n",
        "                else:\n",
        "                    next_state = torch.zeros(1, self.state_dim)\n",
        "\n",
        "                #store new state in frames buffer and process frames to pass as input to DQN\n",
        "                stack_frames._obs_buffer.append(next_state) \n",
        "                next_k_states = stack_frames._k_states\n",
        "\n",
        "                #Store the transition in memory\n",
        "                self.memory.push(k_states, action, next_k_states, reward) \n",
        "\n",
        "                # Perform one step of the optimization (on the policy network)\n",
        "                self.optimize_model()\n",
        "\n",
        "                if done:\n",
        "                    break\n",
        "\n",
        "                # Select and perform an action\n",
        "                steps += 1\n",
        "\n",
        "            stack_frames.reset_buffer() #reset frame stack memory\n",
        "\n",
        "            # Update the target network, copying all weights and biases in DQN\n",
        "            if i_episode % self.target_update_freq == 0:\n",
        "                self.target_net.load_state_dict(self.policy_net.state_dict())\n",
        "\n",
        "            #epsilon decay strategy\n",
        "            if self.eps_decay_strat == \"reward\":\n",
        "                #implement reward-based decay\n",
        "                if self.epsilon > self.eps_end and rewards > self.reward_threshold:\n",
        "                    self.epsilon -= self.epsilon_delta\n",
        "                    self.reward_threshold += 1\n",
        "                    \n",
        "            elif self.eps_decay_strat == \"exp1\":\n",
        "                #epsilon starts decaying exponentially at start of training \n",
        "                self.epsilon = self.eps_end + (self.eps_start-self.eps_end)*math.exp(-i_episode/self.eps_decay)\n",
        "            elif self.eps_decay_strat == \"exp2\":\n",
        "                #epsilon starts decaying exponentially after the 100th episode\n",
        "                if i_episode > 100:\n",
        "                    self.epsilon = self.eps_end + (self.eps_start-self.eps_end)*math.exp(-2*decay_iter/self.eps_decay)\n",
        "                    decay_iter += 1\n",
        "            elif self.eps_decay_strat == \"exp3\":\n",
        "                #epsilon starts decaying exponentially after the 300th episode\n",
        "                if i_episode > 300:\n",
        "                    self.epsilon = self.eps_end + (self.eps_start-self.eps_end)*math.exp(-4*decay_iter/self.eps_decay)\n",
        "                    decay_iter += 1\n",
        "            elif self.eps_decay_strat == \"exp4\":\n",
        "                #epsilon starts decaying exponentially after the 500th episode\n",
        "                if i_episode > 500:\n",
        "                    self.epsilon = self.eps_end + (self.eps_start-self.eps_end)*math.exp(-8*decay_iter/self.eps_decay)\n",
        "                    decay_iter += 1    \n",
        "            else:\n",
        "                pass\n",
        "\n",
        "            self.epsilon_list.append(self.epsilon)\n",
        "            self.train_rewards.append(rewards) #append episode reward to list\n",
        "\n",
        "            self.curr_episode += 1\n",
        "\n",
        "        print(\"Complete\")\n",
        "        env.close() #close environment\n",
        "\n",
        "\n",
        "    def test(self):\n",
        "        \"\"\"run an episode with trained agent and record video\"\"\"\n",
        "\n",
        "        env = gym.make(\"CartPole-v1\")\n",
        "        file_path = 'video.mp4'\n",
        "        recorder = VideoRecorder(env, file_path)\n",
        "\n",
        "        env.reset()\n",
        "        done = False\n",
        "\n",
        "        stack_frames = FrameStacking(env, self.k) #define frame stacking framework\n",
        "\n",
        "        state = torch.tensor(env.state).float().unsqueeze(0).to(device)\n",
        "        for _ in range(self.k): # Added\n",
        "            stack_frames._obs_buffer.append(state) # Added\n",
        "\n",
        "        duration = 0\n",
        "\n",
        "        while not done:\n",
        "            recorder.capture_frame()\n",
        "            # Select and perform an action\n",
        "            k_states = stack_frames._k_states\n",
        "            action = self.select_action(k_states) \n",
        "            _, reward, done, _ = env.step(action.item()) #take step following epsilon-greedy policy\n",
        "            duration += 1\n",
        "\n",
        "            next_state = torch.tensor(env.state).float().unsqueeze(0).to(device)\n",
        "            \n",
        "            #store new state in frames buffer and process frames to pass as input to DQN\n",
        "            stack_frames._obs_buffer.append(next_state) \n",
        "\n",
        "        env.close()\n",
        "        recorder.close()\n",
        "\n",
        "        print(\"Episode duration: \", duration)\n",
        "\n",
        "\n",
        "    def plot_rewards(self):\n",
        "        \"\"\"Plot the total non-discounted sum of rewards across the episodes (i.e duration of each episode in steps).\"\"\"\n",
        "        epochs = np.linspace(0, len(self.train_rewards), len(self.train_rewards))\n",
        "\n",
        "        plt.figure(figsize=(10,7))\n",
        "        plt.grid()\n",
        "        plt.plot(epochs, self.train_rewards, label=\"Total Non-Discounted Rewards\")\n",
        "        #plt.axhline(y=self.reward_target, color='black', linestyle='-', label=\"Reward target\")\n",
        "        #plt.plot(epochs, rewards_list, \"b.\", markersize=3)\n",
        "        #plt.plot(epochs, np.poly1d(np.polyfit(epochs, rewards_list, 1))(epochs), \"r\")\n",
        "        plt.xlabel(\"Episodes\")\n",
        "        plt.ylabel(\"Total Non-Discounted Reward\")\n",
        "        plt.ylim((0,550))\n",
        "        plt.axhline(y=500, color='red', linestyle='-', label=\"Maximum reward\")\n",
        "        plt.legend(loc=\"best\")\n",
        "        plt.show()\n",
        "    \n",
        "    def plot_losses(self):\n",
        "        \"\"\"Plot the total non-discounted sum of rewards across the episodes (i.e duration of each episode in steps).\"\"\"\n",
        "        epochs = np.linspace(0, len(self.losses), len(self.losses))\n",
        "\n",
        "        plt.figure(figsize=(10,7))\n",
        "        plt.grid()\n",
        "        plt.plot(epochs, self.losses, label=\"MSE\")\n",
        "        plt.xlabel(\"Epochs\")\n",
        "        plt.ylabel(\"MSE\")\n",
        "        plt.legend(loc=\"upper left\")\n",
        "        plt.show()\n",
        "\n",
        "    def plot_epsilon(self):\n",
        "        \"\"\"Plot the total non-discounted sum of rewards across the episodes (i.e duration of each episode in steps).\"\"\"\n",
        "        epochs = np.linspace(0, len(self.epsilon_list), len(self.epsilon_list))\n",
        "\n",
        "        plt.figure(figsize=(10,7))\n",
        "        plt.grid()\n",
        "        plt.plot(epochs, self.epsilon_list, color=\"red\")\n",
        "        plt.xlabel(\"Epochs\")\n",
        "        plt.ylabel(\"Epsilon\")\n",
        "        plt.show()\n",
        "\n",
        "        \n",
        "\n"
      ]
    },
    {
      "cell_type": "code",
      "execution_count": 468,
      "metadata": {},
      "outputs": [],
      "source": [
        "#define hyperparameters for agent\n",
        "NUM_EPISODES = 700 #700\n",
        "BATCH_SIZE = 128\n",
        "GAMMA = 1.0\n",
        "TARGET_UPDATE_FREQ = 40\n",
        "NUM_FRAMES = 4 #4\n",
        "SKIPPED_FRAMES = 4 #4\n",
        "NUM_HIDDEN_LAYERS = 2\n",
        "SIZE_HIDDEN_LAYERS = 150\n",
        "REPLAY_BUFFER = 500000 #100000\n",
        "LR = 0.0001\n",
        "EPS_START = 1.0 \n",
        "EPS_END = 0.0005\n",
        "REWARD_TARGET = 100"
      ]
    },
    {
      "cell_type": "code",
      "execution_count": 459,
      "metadata": {},
      "outputs": [
        {
          "name": "stderr",
          "output_type": "stream",
          "text": [
            "100%|██████████| 700/700 [00:09<00:00, 75.70it/s]\n"
          ]
        },
        {
          "name": "stdout",
          "output_type": "stream",
          "text": [
            "Complete\n"
          ]
        },
        {
          "data": {
            "image/png": "[encoded data removed]",
            "text/plain": [
              "<Figure size 720x504 with 1 Axes>"
            ]
          },
          "metadata": {
            "needs_background": "light"
          },
          "output_type": "display_data"
        }
      ],
      "source": [
        "CP_agent = CartpoleAgent(NUM_EPISODES, BATCH_SIZE, GAMMA, TARGET_UPDATE_FREQ, \n",
        "                         NUM_FRAMES, SKIPPED_FRAMES, NUM_HIDDEN_LAYERS, SIZE_HIDDEN_LAYERS, \n",
        "                         REPLAY_BUFFER, LR, EPS_START, EPS_END, REWARD_TARGET)\n",
        "\n",
        "CP_agent.train()\n",
        "CP_agent.plot_rewards()\n",
        "#CP_agent.plot_epsilon()\n",
        "#CP_agent.test()"
      ]
    },
    {
      "cell_type": "code",
      "execution_count": 219,
      "metadata": {},
      "outputs": [],
      "source": [
        "np.savetxt(\"exp_decay3.txt\", CP_agent.epsilon_list)"
      ]
    },
    {
      "cell_type": "code",
      "execution_count": 462,
      "metadata": {},
      "outputs": [],
      "source": [
        "def plot_replications(mean_rewards, std_rewards, mean_epsilons=None, std_epsilons=None):\n",
        "    \"\"\"\"\"\"\n",
        "    episodes = np.arange(len(mean_rewards))\n",
        "\n",
        "    plt.figure(figsize=(10,7))\n",
        "    plt.grid()\n",
        "    plt.plot(episodes, mean_rewards, \"r\", label=\"mean / $\\mu$\")\n",
        "    plt.fill_between(episodes, mean_rewards-std_rewards, mean_rewards+std_rewards, color=\"r\", alpha=0.4, label=r\"std / $\\sigma$\")\n",
        "    plt.xlabel(\"Episode\")\n",
        "    plt.ylabel(\"Mean Total Non-Discounted Reward\")\n",
        "    plt.ylim((0,550))\n",
        "    plt.axhline(y=500, color='black', linestyle='-', label=\"Maximum reward\")\n",
        "    plt.legend(loc=\"best\")\n",
        "    plt.show();\n",
        "\n",
        "    if mean_epsilons is not None and std_epsilons is not None:\n",
        "        plt.figure(figsize=(10,7))\n",
        "        plt.grid()\n",
        "        plt.plot(episodes, mean_epsilons, \"b\", label=\"mean / $\\mu$\")\n",
        "        plt.fill_between(episodes, mean_epsilons-std_epsilons, mean_epsilons+std_epsilons, color=\"b\", alpha=0.4, label=r\"std / $\\sigma$\")\n",
        "        plt.xlabel(\"Episode\")\n",
        "        plt.ylabel(\"Epsilon\")\n",
        "        plt.legend(loc=\"best\")\n",
        "        plt.show();\n",
        "\n",
        "def replicate_CPAgent(N_REPLICATIONS,NUM_EPISODES, BATCH_SIZE, GAMMA, TARGET_UPDATE_FREQ, \n",
        "                      NUM_FRAMES, SKIPPED_FRAMES, NUM_HIDDEN_LAYERS, SIZE_HIDDEN_LAYERS, \n",
        "                      REPLAY_BUFFER, LR, EPS_START, EPS_END, REWARD_TARGET, return_epsilon=False):\n",
        "    \"\"\"\"\"\"\n",
        "    replication_rewards = []\n",
        "    replication_epsilons = []\n",
        "    for i in range(N_REPLICATIONS):\n",
        "        print(f\"Replication {i+1}\")\n",
        "        CP_agent = CartpoleAgent(NUM_EPISODES, BATCH_SIZE, GAMMA, TARGET_UPDATE_FREQ, \n",
        "                                 NUM_FRAMES, SKIPPED_FRAMES, NUM_HIDDEN_LAYERS, SIZE_HIDDEN_LAYERS, \n",
        "                                 REPLAY_BUFFER, LR, EPS_START, EPS_END, REWARD_TARGET)\n",
        "    \n",
        "        CP_agent.train() #train agent\n",
        "        replication_rewards.append(CP_agent.train_rewards)\n",
        "        if return_epsilon:\n",
        "            replication_epsilons.append(CP_agent.epsilon_list)\n",
        "\n",
        "    mean_rewards = np.mean(np.array(replication_rewards), axis=0)\n",
        "    std_rewards = np.std(np.array(replication_rewards), axis=0)\n",
        "\n",
        "    if return_epsilon:\n",
        "        mean_epsilons = np.mean(np.array(replication_epsilons), axis=0)\n",
        "        std_epsilons = np.std(np.array(replication_epsilons), axis=0)\n",
        "\n",
        "        return mean_rewards, std_rewards, mean_epsilons, std_epsilons\n",
        "    else:\n",
        "        return mean_rewards, std_rewards"
      ]
    },
    {
      "cell_type": "code",
      "execution_count": 469,
      "metadata": {},
      "outputs": [
        {
          "name": "stdout",
          "output_type": "stream",
          "text": [
            "Replication 1\n"
          ]
        },
        {
          "name": "stderr",
          "output_type": "stream",
          "text": [
            "100%|██████████| 700/700 [03:11<00:00,  3.66it/s]\n"
          ]
        },
        {
          "name": "stdout",
          "output_type": "stream",
          "text": [
            "Complete\n",
            "Replication 2\n"
          ]
        },
        {
          "name": "stderr",
          "output_type": "stream",
          "text": [
            "100%|██████████| 700/700 [02:48<00:00,  4.16it/s]\n"
          ]
        },
        {
          "name": "stdout",
          "output_type": "stream",
          "text": [
            "Complete\n",
            "Replication 3\n"
          ]
        },
        {
          "name": "stderr",
          "output_type": "stream",
          "text": [
            "100%|██████████| 700/700 [01:43<00:00,  6.77it/s]\n"
          ]
        },
        {
          "name": "stdout",
          "output_type": "stream",
          "text": [
            "Complete\n",
            "Replication 4\n"
          ]
        },
        {
          "name": "stderr",
          "output_type": "stream",
          "text": [
            "100%|██████████| 700/700 [02:47<00:00,  4.19it/s]\n"
          ]
        },
        {
          "name": "stdout",
          "output_type": "stream",
          "text": [
            "Complete\n",
            "Replication 5\n"
          ]
        },
        {
          "name": "stderr",
          "output_type": "stream",
          "text": [
            "100%|██████████| 700/700 [02:25<00:00,  4.80it/s]\n"
          ]
        },
        {
          "name": "stdout",
          "output_type": "stream",
          "text": [
            "Complete\n",
            "Replication 6\n"
          ]
        },
        {
          "name": "stderr",
          "output_type": "stream",
          "text": [
            "100%|██████████| 700/700 [01:51<00:00,  6.27it/s]\n"
          ]
        },
        {
          "name": "stdout",
          "output_type": "stream",
          "text": [
            "Complete\n",
            "Replication 7\n"
          ]
        },
        {
          "name": "stderr",
          "output_type": "stream",
          "text": [
            "100%|██████████| 700/700 [02:39<00:00,  4.38it/s]\n"
          ]
        },
        {
          "name": "stdout",
          "output_type": "stream",
          "text": [
            "Complete\n",
            "Replication 8\n"
          ]
        },
        {
          "name": "stderr",
          "output_type": "stream",
          "text": [
            "100%|██████████| 700/700 [02:11<00:00,  5.32it/s]\n"
          ]
        },
        {
          "name": "stdout",
          "output_type": "stream",
          "text": [
            "Complete\n",
            "Replication 9\n"
          ]
        },
        {
          "name": "stderr",
          "output_type": "stream",
          "text": [
            "100%|██████████| 700/700 [02:21<00:00,  4.95it/s]\n"
          ]
        },
        {
          "name": "stdout",
          "output_type": "stream",
          "text": [
            "Complete\n",
            "Replication 10\n"
          ]
        },
        {
          "name": "stderr",
          "output_type": "stream",
          "text": [
            "100%|██████████| 700/700 [01:56<00:00,  5.98it/s]\n"
          ]
        },
        {
          "name": "stdout",
          "output_type": "stream",
          "text": [
            "Complete\n",
            "Replication 11\n"
          ]
        },
        {
          "name": "stderr",
          "output_type": "stream",
          "text": [
            "100%|██████████| 700/700 [01:50<00:00,  6.35it/s]\n"
          ]
        },
        {
          "name": "stdout",
          "output_type": "stream",
          "text": [
            "Complete\n",
            "Replication 12\n"
          ]
        },
        {
          "name": "stderr",
          "output_type": "stream",
          "text": [
            "100%|██████████| 700/700 [02:14<00:00,  5.22it/s]\n"
          ]
        },
        {
          "name": "stdout",
          "output_type": "stream",
          "text": [
            "Complete\n",
            "Replication 13\n"
          ]
        },
        {
          "name": "stderr",
          "output_type": "stream",
          "text": [
            "100%|██████████| 700/700 [02:46<00:00,  4.19it/s]\n"
          ]
        },
        {
          "name": "stdout",
          "output_type": "stream",
          "text": [
            "Complete\n",
            "Replication 14\n"
          ]
        },
        {
          "name": "stderr",
          "output_type": "stream",
          "text": [
            "100%|██████████| 700/700 [04:08<00:00,  2.81it/s]\n"
          ]
        },
        {
          "name": "stdout",
          "output_type": "stream",
          "text": [
            "Complete\n",
            "Replication 15\n"
          ]
        },
        {
          "name": "stderr",
          "output_type": "stream",
          "text": [
            "100%|██████████| 700/700 [01:56<00:00,  5.99it/s]"
          ]
        },
        {
          "name": "stdout",
          "output_type": "stream",
          "text": [
            "Complete\n"
          ]
        },
        {
          "name": "stderr",
          "output_type": "stream",
          "text": [
            "\n"
          ]
        }
      ],
      "source": [
        "N_REPLICATIONS = 15\n",
        "mean_rewards, std_rewards = replicate_CPAgent(N_REPLICATIONS, NUM_EPISODES, BATCH_SIZE, GAMMA, TARGET_UPDATE_FREQ, \n",
        "                                              NUM_FRAMES, SKIPPED_FRAMES, NUM_HIDDEN_LAYERS, SIZE_HIDDEN_LAYERS, \n",
        "                                              REPLAY_BUFFER, LR, EPS_START, EPS_END, REWARD_TARGET)"
      ]
    },
    {
      "cell_type": "code",
      "execution_count": 470,
      "metadata": {},
      "outputs": [
        {
          "data": {
            "image/png": "[encoded data removed]",
            "text/plain": [
              "<Figure size 720x504 with 1 Axes>"
            ]
          },
          "metadata": {
            "needs_background": "light"
          },
          "output_type": "display_data"
        }
      ],
      "source": [
        "np.savetxt(\"mean_rewards_DQN_replay_500000.txt\" , mean_rewards)\n",
        "np.savetxt(\"std_rewards_DQN_replay_500000.txt\" , std_rewards)\n",
        "#np.savetxt(\"mean_exp_epsilons_DQN.txt\" , mean_epsilons)\n",
        "#np.savetxt(\"std_exp_epsilons_DQN.txt\" , std_epsilons)\n",
        "\n",
        "plot_replications(mean_rewards, std_rewards)"
      ]
    },
    {
      "cell_type": "markdown",
      "metadata": {},
      "source": []
    },
    {
      "cell_type": "markdown",
      "metadata": {},
      "source": [
        "## REPORT PLOTS ##"
      ]
    },
    {
      "cell_type": "markdown",
      "metadata": {},
      "source": [
        "## Q2.1 ##\n",
        "\n",
        "### a). Exponential Decay ###"
      ]
    },
    {
      "cell_type": "code",
      "execution_count": null,
      "metadata": {},
      "outputs": [],
      "source": []
    },
    {
      "cell_type": "markdown",
      "metadata": {},
      "source": []
    },
    {
      "cell_type": "code",
      "execution_count": 393,
      "metadata": {},
      "outputs": [
        {
          "name": "stdout",
          "output_type": "stream",
          "text": [
            "9.34998\n"
          ]
        }
      ],
      "source": [
        "\n",
        "env = gym.make(\"CartPole-v1\")\n",
        "\n",
        "steps = []\n",
        "for _ in range(100000):\n",
        "    finished=False\n",
        "    temp = 0\n",
        "    env.reset()\n",
        "    while not finished:\n",
        "        obs, reward, done, info = env.step(1)\n",
        "        temp += 1\n",
        "        if done:\n",
        "            finished = True\n",
        "\n",
        "    steps.append(temp)\n",
        "\n",
        "\n",
        "\n",
        "print(np.mean(steps))"
      ]
    },
    {
      "cell_type": "markdown",
      "metadata": {},
      "source": [
        "## Q2.3 ##\n"
      ]
    },
    {
      "cell_type": "markdown",
      "metadata": {},
      "source": []
    }
  ],
  "metadata": {
    "colab": {
      "collapsed_sections": [],
      "name": "cw2_code.ipynb",
      "provenance": []
    },
    "kernelspec": {
      "display_name": "Python 3",
      "language": "python",
      "name": "python3"
    },
    "language_info": {
      "codemirror_mode": {
        "name": "ipython",
        "version": 3
      },
      "file_extension": ".py",
      "mimetype": "text/x-python",
      "name": "python",
      "nbconvert_exporter": "python",
      "pygments_lexer": "ipython3",
      "version": "3.9.8"
    }
  },
  "nbformat": 4,
  "nbformat_minor": 0
}
